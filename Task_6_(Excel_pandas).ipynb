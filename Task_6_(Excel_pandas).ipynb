{
  "nbformat": 4,
  "nbformat_minor": 0,
  "metadata": {
    "colab": {
      "provenance": []
    },
    "kernelspec": {
      "name": "python3",
      "display_name": "Python 3"
    },
    "language_info": {
      "name": "python"
    }
  },
  "cells": [
    {
      "cell_type": "code",
      "source": [
        "import pandas as pd\n",
        "df_excel = pd.read_excel('/content/sangeeta (2).xlsx')\n",
        "print(df_excel)\n"
      ],
      "metadata": {
        "colab": {
          "base_uri": "https://localhost:8080/"
        },
        "id": "vM93aGMd_uOw",
        "outputId": "e7fec0e9-c749-426a-e4ca-9f3103659d4d"
      },
      "execution_count": 5,
      "outputs": [
        {
          "output_type": "stream",
          "name": "stdout",
          "text": [
            "      Roll  Mathematics Physics Chemistry Biology Total marks Unnamed: 6  \\\n",
            "0        34          95      68        71      84         318        NaN   \n",
            "1        25          64      79        90      76         309        NaN   \n",
            "2        19          82      73        80      69         304        NaN   \n",
            "3        17          91      80        68      71         310        NaN   \n",
            "4         3          75      75        82      61         293        NaN   \n",
            "5       NaN         NaN     NaN       NaN     NaN         NaN        NaN   \n",
            "6       NaN         NaN     NaN       NaN     NaN         NaN        NaN   \n",
            "7       NaN         NaN     NaN       NaN     NaN         NaN        NaN   \n",
            "8       NaN         NaN     NaN       NaN     NaN         NaN        NaN   \n",
            "9       NaN         NaN     NaN       NaN     NaN         NaN        NaN   \n",
            "10      NaN         NaN     NaN       NaN     NaN         NaN        NaN   \n",
            "11      NaN         NaN     NaN       NaN     NaN         NaN      Ans 1   \n",
            "12     Name       Phone   Floor      Dept  Design      Salary        NaN   \n",
            "13     Neha      683216       2      Bill      SA       18000          2   \n",
            "14     Arun      658545       3       Trg     TSA       15000        NaN   \n",
            "15    Viney      698965       1      Bill      JD       22000          1   \n",
            "16  Ashwita      703265       4       Adm     PSA       18000        NaN   \n",
            "17    Amrit      874565       2       Adm      JD       22000        NaN   \n",
            "\n",
            "   Unnamed: 7 Unnamed: 8    Unnamed: 9   Unnamed: 10  \n",
            "0         NaN        NaN           NaN           NaN  \n",
            "1         NaN        NaN           NaN           NaN  \n",
            "2         NaN        NaN           NaN           NaN  \n",
            "3         NaN        NaN           NaN           NaN  \n",
            "4         NaN        NaN           NaN           NaN  \n",
            "5         NaN        NaN           NaN           NaN  \n",
            "6         NaN        NaN           NaN           NaN  \n",
            "7         NaN        NaN           NaN           NaN  \n",
            "8         NaN        NaN           NaN           NaN  \n",
            "9         NaN        NaN           NaN           NaN  \n",
            "10        NaN        NaN           NaN           NaN  \n",
            "11      Ans 2      Ans 3         Ans 4         Ans 5  \n",
            "12  Neha Bill        NaN           NaN   Neha 683216  \n",
            "13        NaN      Arun3   Neha 683216           NaN  \n",
            "14        NaN        NaN           NaN           NaN  \n",
            "15        NaN        NaN           NaN           NaN  \n",
            "16        NaN        NaN           NaN  Amrit 874565  \n",
            "17        NaN        NaN  Amrit 874565           NaN  \n"
          ]
        }
      ]
    }
  ]
}